{
  "cells": [
    {
      "cell_type": "markdown",
      "metadata": {
        "id": "view-in-github",
        "colab_type": "text"
      },
      "source": [
        "<a href=\"https://colab.research.google.com/github/naiksahana/WebScrapping/blob/main/Web_ScrappingOfBooks.ipynb\" target=\"_parent\"><img src=\"https://colab.research.google.com/assets/colab-badge.svg\" alt=\"Open In Colab\"/></a>"
      ]
    },
    {
      "cell_type": "code",
      "execution_count": 2,
      "metadata": {
        "id": "U2uu1BF62y04"
      },
      "outputs": [],
      "source": [
        "# import required libraries\n",
        "import requests\n",
        "from bs4 import BeautifulSoup as bs"
      ]
    },
    {
      "cell_type": "markdown",
      "metadata": {
        "id": "ET5kSO4Y8dX9"
      },
      "source": []
    },
    {
      "cell_type": "code",
      "execution_count": 3,
      "metadata": {
        "id": "n4zITYc25tQR"
      },
      "outputs": [],
      "source": [
        "url = 'http://books.toscrape.com/'\n",
        "response = requests.get(url)"
      ]
    },
    {
      "cell_type": "code",
      "execution_count": 4,
      "metadata": {
        "colab": {
          "base_uri": "https://localhost:8080/"
        },
        "id": "EBSm95565_Bf",
        "outputId": "23602c4e-dc66-4c1a-82ef-969cc5f59526"
      },
      "outputs": [
        {
          "output_type": "execute_result",
          "data": {
            "text/plain": [
              "<Response [200]>"
            ]
          },
          "metadata": {},
          "execution_count": 4
        }
      ],
      "source": [
        "response"
      ]
    },
    {
      "cell_type": "code",
      "execution_count": 5,
      "metadata": {
        "colab": {
          "base_uri": "https://localhost:8080/"
        },
        "id": "6TYLbUXQ6YYG",
        "outputId": "4f1d05cf-cd77-40fa-880d-d67984b29b72"
      },
      "outputs": [
        {
          "output_type": "stream",
          "name": "stdout",
          "text": [
            "<!DOCTYPE html>\n",
            "<!--[if lt IE 7]>      <html lang=\"en-us\" class=\"no-js lt-ie9 lt-ie8 lt-ie7\"> <![endif]-->\n",
            "<!--[if IE 7]>         <html lang=\"en-us\" class=\"no-js lt-ie9 lt-ie8\"> <![endif]-->\n",
            "<!--[if IE 8]>         <html lang=\"en-us\" class=\"no-js lt-ie9\"> <![endif]-->\n",
            "<!--[if gt IE 8]><!--> <html lang=\"en-us\" class=\"no-js\"> <!--<![endif]-->\n",
            "    <head>\n",
            "        <title>\n",
            "    All products | Books to Scrape - Sandbox\n",
            "</title>\n",
            "\n",
            "        <meta http-equiv=\"content-type\" content=\"text/html; charset=UTF-8\" />\n",
            "        <meta name=\"created\" content=\"24th Jun 2016 09:29\" />\n",
            "        <meta name=\"description\" content=\"\" />\n",
            "        <meta name=\"viewport\" content=\"width=device-width\" />\n",
            "        <meta name=\"robots\" content=\"NOARCHIVE,NOCACHE\" />\n",
            "\n",
            "        <!-- Le HTML5 shim, for IE6-8 support of HTML elements -->\n",
            "        <!--[if lt IE 9]>\n",
            "        <script src=\"//html5shim.googlecode.com/svn/trunk/html5.js\"></script>\n",
            "        <![endif]-->\n",
            "\n",
            "        \n",
            "            <link rel=\"shortcut icon\" href=\"static/oscar/favicon.\n"
          ]
        }
      ],
      "source": [
        "print(response.text[:1000])"
      ]
    },
    {
      "cell_type": "code",
      "execution_count": 7,
      "metadata": {
        "colab": {
          "base_uri": "https://localhost:8080/"
        },
        "id": "M5r6GZbR6h3P",
        "outputId": "e55937ad-d7d8-4349-905b-a5c1500caaa9"
      },
      "outputs": [
        {
          "output_type": "execute_result",
          "data": {
            "text/plain": [
              "str"
            ]
          },
          "metadata": {},
          "execution_count": 7
        }
      ],
      "source": [
        "type(response.text)"
      ]
    },
    {
      "cell_type": "code",
      "execution_count": 6,
      "metadata": {
        "id": "FSDhdr7_7MvW"
      },
      "outputs": [],
      "source": [
        "soup = bs(response.text)"
      ]
    },
    {
      "cell_type": "code",
      "execution_count": 8,
      "metadata": {
        "colab": {
          "base_uri": "https://localhost:8080/"
        },
        "id": "TAXb-htd76Ph",
        "outputId": "b5dd864a-a32b-4839-9ca2-f83d6f85ffdc"
      },
      "outputs": [
        {
          "output_type": "execute_result",
          "data": {
            "text/plain": [
              "bs4.BeautifulSoup"
            ]
          },
          "metadata": {},
          "execution_count": 8
        }
      ],
      "source": [
        "type(soup)"
      ]
    },
    {
      "cell_type": "code",
      "execution_count": 9,
      "metadata": {
        "colab": {
          "base_uri": "https://localhost:8080/",
          "height": 36
        },
        "id": "Z7qCu__v8n82",
        "outputId": "76937b36-e868-4337-92a3-dc9782061f2a"
      },
      "outputs": [
        {
          "output_type": "execute_result",
          "data": {
            "text/plain": [
              "'All products | Books to Scrape - Sandbox'"
            ],
            "application/vnd.google.colaboratory.intrinsic+json": {
              "type": "string"
            }
          },
          "metadata": {},
          "execution_count": 9
        }
      ],
      "source": [
        "soup.find('title').text.strip()"
      ]
    },
    {
      "cell_type": "code",
      "execution_count": 10,
      "metadata": {
        "id": "yOFb0XP18rfD"
      },
      "outputs": [],
      "source": [
        "books_tag = soup.find_all('article',class_ ='product_pod')"
      ]
    },
    {
      "cell_type": "code",
      "execution_count": 11,
      "metadata": {
        "colab": {
          "base_uri": "https://localhost:8080/"
        },
        "id": "vONgC0sJ9ktQ",
        "outputId": "d62a7b0d-09bc-4503-93c8-d3881b406c24"
      },
      "outputs": [
        {
          "output_type": "execute_result",
          "data": {
            "text/plain": [
              "20"
            ]
          },
          "metadata": {},
          "execution_count": 11
        }
      ],
      "source": [
        "len(books_tag)"
      ]
    },
    {
      "cell_type": "code",
      "execution_count": 12,
      "metadata": {
        "colab": {
          "base_uri": "https://localhost:8080/"
        },
        "id": "iZCbrcKT9miA",
        "outputId": "eff787e6-4eab-4644-b93d-7aa6c4f08392"
      },
      "outputs": [
        {
          "output_type": "execute_result",
          "data": {
            "text/plain": [
              "<article class=\"product_pod\">\n",
              "<div class=\"image_container\">\n",
              "<a href=\"catalogue/a-light-in-the-attic_1000/index.html\"><img alt=\"A Light in the Attic\" class=\"thumbnail\" src=\"media/cache/2c/da/2cdad67c44b002e7ead0cc35693c0e8b.jpg\"/></a>\n",
              "</div>\n",
              "<p class=\"star-rating Three\">\n",
              "<i class=\"icon-star\"></i>\n",
              "<i class=\"icon-star\"></i>\n",
              "<i class=\"icon-star\"></i>\n",
              "<i class=\"icon-star\"></i>\n",
              "<i class=\"icon-star\"></i>\n",
              "</p>\n",
              "<h3><a href=\"catalogue/a-light-in-the-attic_1000/index.html\" title=\"A Light in the Attic\">A Light in the ...</a></h3>\n",
              "<div class=\"product_price\">\n",
              "<p class=\"price_color\">Â£51.77</p>\n",
              "<p class=\"instock availability\">\n",
              "<i class=\"icon-ok\"></i>\n",
              "    \n",
              "        In stock\n",
              "    \n",
              "</p>\n",
              "<form>\n",
              "<button class=\"btn btn-primary btn-block\" data-loading-text=\"Adding...\" type=\"submit\">Add to basket</button>\n",
              "</form>\n",
              "</div>\n",
              "</article>"
            ]
          },
          "metadata": {},
          "execution_count": 12
        }
      ],
      "source": [
        "book_tag = books_tag[0]\n",
        "book_tag"
      ]
    },
    {
      "cell_type": "code",
      "execution_count": 13,
      "metadata": {
        "id": "STKwEfmk_d4S"
      },
      "outputs": [],
      "source": [
        "#title_tag.text\n",
        "title_tag = soup.find('a',title=True).text.strip()"
      ]
    },
    {
      "cell_type": "code",
      "execution_count": 14,
      "metadata": {
        "colab": {
          "base_uri": "https://localhost:8080/",
          "height": 36
        },
        "id": "yKbucYWe_jym",
        "outputId": "3e3e83c0-afbc-40f1-c155-ec9d032a4581"
      },
      "outputs": [
        {
          "output_type": "execute_result",
          "data": {
            "text/plain": [
              "'A Light in the ...'"
            ],
            "application/vnd.google.colaboratory.intrinsic+json": {
              "type": "string"
            }
          },
          "metadata": {},
          "execution_count": 14
        }
      ],
      "source": [
        "title_tag"
      ]
    },
    {
      "cell_type": "markdown",
      "metadata": {
        "id": "ZgF4e008AHAF"
      },
      "source": [
        "http://books.toscrape.com/catalogue/a-light-in-the-attic_1000/index.html"
      ]
    },
    {
      "cell_type": "code",
      "execution_count": 15,
      "metadata": {
        "id": "18AwQ_Ux060u"
      },
      "outputs": [],
      "source": [
        "price = soup.find('p', class_='price_color').text.strip()"
      ]
    },
    {
      "cell_type": "code",
      "execution_count": 16,
      "metadata": {
        "colab": {
          "base_uri": "https://localhost:8080/"
        },
        "id": "4KBGN2rz1C4t",
        "outputId": "64874402-9fe8-4f20-d06e-1bdd56213b7c"
      },
      "outputs": [
        {
          "output_type": "stream",
          "name": "stdout",
          "text": [
            "Price: Â£51.77\n"
          ]
        }
      ],
      "source": [
        "print('Price:', price)"
      ]
    },
    {
      "cell_type": "code",
      "execution_count": 17,
      "metadata": {
        "colab": {
          "base_uri": "https://localhost:8080/"
        },
        "id": "EE4Cmihf1IFJ",
        "outputId": "c4080110-3c7b-480e-ed5e-99a4c6756580"
      },
      "outputs": [
        {
          "output_type": "stream",
          "name": "stdout",
          "text": [
            "In stock\n"
          ]
        }
      ],
      "source": [
        "availability = soup.find('p', class_='instock availability').text.strip()\n",
        "print(availability)"
      ]
    },
    {
      "cell_type": "code",
      "execution_count": 18,
      "metadata": {
        "id": "c_4vMHNN5-6K"
      },
      "outputs": [],
      "source": [
        "for book in book_tag:\n",
        "    # Extract book name\n",
        "    title_tag = soup.find('a', title=True).text.strip()\n",
        "    price = soup.find('p', class_='price_color').text.strip()\n",
        "    availability = soup.find('p', class_='instock availability').text.strip()\n",
        "\n",
        "    # Create a dictionary for the current book\n",
        "    book_info = {\n",
        "        'Book Name': title_tag,\n",
        "        'Price': price,\n",
        "        'Availability': availability\n",
        "    }"
      ]
    },
    {
      "cell_type": "code",
      "execution_count": 19,
      "metadata": {
        "colab": {
          "base_uri": "https://localhost:8080/"
        },
        "id": "v8Muy2Gw6Bpd",
        "outputId": "f4bf6ed8-dc4a-41f5-cbff-c7acecc5b68a"
      },
      "outputs": [
        {
          "output_type": "stream",
          "name": "stdout",
          "text": [
            "A Light in the ...\n"
          ]
        }
      ],
      "source": [
        "print(book_info['Book Name'])"
      ]
    },
    {
      "cell_type": "code",
      "execution_count": 20,
      "metadata": {
        "colab": {
          "base_uri": "https://localhost:8080/"
        },
        "id": "4GXjisq861vU",
        "outputId": "ad3d3473-9d0f-4583-8fbb-aaf625f9be6d"
      },
      "outputs": [
        {
          "output_type": "stream",
          "name": "stdout",
          "text": [
            "dict_keys(['Book Name', 'Price', 'Availability'])\n"
          ]
        }
      ],
      "source": [
        "print(book_info.keys())"
      ]
    },
    {
      "cell_type": "code",
      "execution_count": 21,
      "metadata": {
        "colab": {
          "base_uri": "https://localhost:8080/"
        },
        "id": "XlauUPOS67V1",
        "outputId": "1b342058-de90-446a-fe85-f90d7227eec2"
      },
      "outputs": [
        {
          "output_type": "stream",
          "name": "stdout",
          "text": [
            "<class 'str'>\n"
          ]
        }
      ],
      "source": [
        "print(type(book_info['Book Name']))"
      ]
    },
    {
      "cell_type": "code",
      "execution_count": 23,
      "metadata": {
        "colab": {
          "base_uri": "https://localhost:8080/"
        },
        "id": "2k4MYFwy7jS1",
        "outputId": "db71323e-b5a5-4d47-dadf-1b768f0af4d6"
      },
      "outputs": [
        {
          "output_type": "stream",
          "name": "stdout",
          "text": [
            "Book Name: A Light in the Attic\n",
            "Price: Â£51.77\n",
            "Availability: In stock\n",
            "Link: https://books.toscrape.com/catalogue/a-light-in-the-attic_1000/index.html\n",
            "--------------------------------------------\n",
            "Book Name: Tipping the Velvet\n",
            "Price: Â£53.74\n",
            "Availability: In stock\n",
            "Link: https://books.toscrape.com/catalogue/tipping-the-velvet_999/index.html\n",
            "--------------------------------------------\n",
            "Book Name: Soumission\n",
            "Price: Â£50.10\n",
            "Availability: In stock\n",
            "Link: https://books.toscrape.com/catalogue/soumission_998/index.html\n",
            "--------------------------------------------\n",
            "Book Name: Sharp Objects\n",
            "Price: Â£47.82\n",
            "Availability: In stock\n",
            "Link: https://books.toscrape.com/catalogue/sharp-objects_997/index.html\n",
            "--------------------------------------------\n",
            "Book Name: Sapiens: A Brief History of Humankind\n",
            "Price: Â£54.23\n",
            "Availability: In stock\n",
            "Link: https://books.toscrape.com/catalogue/sapiens-a-brief-history-of-humankind_996/index.html\n",
            "--------------------------------------------\n",
            "Book Name: The Requiem Red\n",
            "Price: Â£22.65\n",
            "Availability: In stock\n",
            "Link: https://books.toscrape.com/catalogue/the-requiem-red_995/index.html\n",
            "--------------------------------------------\n",
            "Book Name: The Dirty Little Secrets of Getting Your Dream Job\n",
            "Price: Â£33.34\n",
            "Availability: In stock\n",
            "Link: https://books.toscrape.com/catalogue/the-dirty-little-secrets-of-getting-your-dream-job_994/index.html\n",
            "--------------------------------------------\n",
            "Book Name: The Coming Woman: A Novel Based on the Life of the Infamous Feminist, Victoria Woodhull\n",
            "Price: Â£17.93\n",
            "Availability: In stock\n",
            "Link: https://books.toscrape.com/catalogue/the-coming-woman-a-novel-based-on-the-life-of-the-infamous-feminist-victoria-woodhull_993/index.html\n",
            "--------------------------------------------\n",
            "Book Name: The Boys in the Boat: Nine Americans and Their Epic Quest for Gold at the 1936 Berlin Olympics\n",
            "Price: Â£22.60\n",
            "Availability: In stock\n",
            "Link: https://books.toscrape.com/catalogue/the-boys-in-the-boat-nine-americans-and-their-epic-quest-for-gold-at-the-1936-berlin-olympics_992/index.html\n",
            "--------------------------------------------\n",
            "Book Name: The Black Maria\n",
            "Price: Â£52.15\n",
            "Availability: In stock\n",
            "Link: https://books.toscrape.com/catalogue/the-black-maria_991/index.html\n",
            "--------------------------------------------\n",
            "Book Name: Starving Hearts (Triangular Trade Trilogy, #1)\n",
            "Price: Â£13.99\n",
            "Availability: In stock\n",
            "Link: https://books.toscrape.com/catalogue/starving-hearts-triangular-trade-trilogy-1_990/index.html\n",
            "--------------------------------------------\n",
            "Book Name: Shakespeare's Sonnets\n",
            "Price: Â£20.66\n",
            "Availability: In stock\n",
            "Link: https://books.toscrape.com/catalogue/shakespeares-sonnets_989/index.html\n",
            "--------------------------------------------\n",
            "Book Name: Set Me Free\n",
            "Price: Â£17.46\n",
            "Availability: In stock\n",
            "Link: https://books.toscrape.com/catalogue/set-me-free_988/index.html\n",
            "--------------------------------------------\n",
            "Book Name: Scott Pilgrim's Precious Little Life (Scott Pilgrim #1)\n",
            "Price: Â£52.29\n",
            "Availability: In stock\n",
            "Link: https://books.toscrape.com/catalogue/scott-pilgrims-precious-little-life-scott-pilgrim-1_987/index.html\n",
            "--------------------------------------------\n",
            "Book Name: Rip it Up and Start Again\n",
            "Price: Â£35.02\n",
            "Availability: In stock\n",
            "Link: https://books.toscrape.com/catalogue/rip-it-up-and-start-again_986/index.html\n",
            "--------------------------------------------\n",
            "Book Name: Our Band Could Be Your Life: Scenes from the American Indie Underground, 1981-1991\n",
            "Price: Â£57.25\n",
            "Availability: In stock\n",
            "Link: https://books.toscrape.com/catalogue/our-band-could-be-your-life-scenes-from-the-american-indie-underground-1981-1991_985/index.html\n",
            "--------------------------------------------\n",
            "Book Name: Olio\n",
            "Price: Â£23.88\n",
            "Availability: In stock\n",
            "Link: https://books.toscrape.com/catalogue/olio_984/index.html\n",
            "--------------------------------------------\n",
            "Book Name: Mesaerion: The Best Science Fiction Stories 1800-1849\n",
            "Price: Â£37.59\n",
            "Availability: In stock\n",
            "Link: https://books.toscrape.com/catalogue/mesaerion-the-best-science-fiction-stories-1800-1849_983/index.html\n",
            "--------------------------------------------\n",
            "Book Name: Libertarianism for Beginners\n",
            "Price: Â£51.33\n",
            "Availability: In stock\n",
            "Link: https://books.toscrape.com/catalogue/libertarianism-for-beginners_982/index.html\n",
            "--------------------------------------------\n",
            "Book Name: It's Only the Himalayas\n",
            "Price: Â£45.17\n",
            "Availability: In stock\n",
            "Link: https://books.toscrape.com/catalogue/its-only-the-himalayas_981/index.html\n",
            "--------------------------------------------\n"
          ]
        }
      ],
      "source": [
        "# Assuming you have already parsed the HTML content into soup\n",
        "books_tag = soup.find_all('article', class_='product_pod')  # Assuming 'book_tag' should be 'books_tag'\n",
        "\n",
        "# List to store information of all books\n",
        "books_info = []\n",
        "\n",
        "# Iterate through each book tag\n",
        "for book in books_tag:\n",
        "    # Extract book name\n",
        "    title_tag = book.find('a', title=True)['title']\n",
        "\n",
        "    # Extract book price\n",
        "    price = book.find('p', class_='price_color').text.strip()\n",
        "\n",
        "    # Extract stock availability\n",
        "    availability = book.find('p', class_='instock availability').text.strip()\n",
        "\n",
        "    # Extract stock availability\n",
        "    link='https://books.toscrape.com/'+book.find('a')['href']\n",
        "    # Create a dictionary for the current book\n",
        "    book_info = {\n",
        "        'Book Name': title_tag,\n",
        "        'Price': price,\n",
        "        'Availability': availability,\n",
        "        'Link':link\n",
        "    }\n",
        "\n",
        "    # Append the book information to the list\n",
        "    books_info.append(book_info)\n",
        "\n",
        "# Print all the information for all books\n",
        "for book_info in books_info:\n",
        "    print('Book Name:', book_info['Book Name'])\n",
        "    print('Price:', book_info['Price'])\n",
        "    print('Availability:', book_info['Availability'])\n",
        "    print('Link:',book_info['Link'])\n",
        "    print('--------------------------------------------')\n"
      ]
    }
  ],
  "metadata": {
    "colab": {
      "provenance": [],
      "include_colab_link": true
    },
    "kernelspec": {
      "display_name": "Python 3",
      "name": "python3"
    },
    "language_info": {
      "name": "python"
    }
  },
  "nbformat": 4,
  "nbformat_minor": 0
}